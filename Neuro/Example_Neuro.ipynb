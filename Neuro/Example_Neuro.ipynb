{
 "cells": [
  {
   "cell_type": "code",
   "execution_count": null,
   "metadata": {
    "executionInfo": {
     "elapsed": 12,
     "status": "ok",
     "timestamp": 1742626570389,
     "user": {
      "displayName": "Кирилл Черепанов",
      "userId": "02626627573596547250"
     },
     "user_tz": -420
    },
    "id": "v8pevwkbfCqa"
   },
   "outputs": [
    {
     "ename": "",
     "evalue": "",
     "output_type": "error",
     "traceback": [
      "\u001b[1;31mRunning cells with 'Python 3.11.9' requires the ipykernel package.\n",
      "\u001b[1;31mRun the following command to install 'ipykernel' into the Python environment. \n",
      "\u001b[1;31mCommand: 'c:/Users/user/AppData/Local/Microsoft/WindowsApps/python3.11.exe -m pip install ipykernel -U --user --force-reinstall'"
     ]
    }
   ],
   "source": [
    "import torch\n",
    "import torch.nn as nn\n",
    "import torch.optim as optim\n",
    "from sklearn.model_selection import KFold\n",
    "import numpy as np\n",
    "import matplotlib.pyplot as plt\n",
    "import pandas as pd\n",
    "\n",
    "df = pd.read_csv(\"dataset.txt\", header=None, names=['total_flights', 'num_cancellations', 'time_since_booking', 'season_cancelled', 'cancel_label'])\n",
    "\n",
    "\n",
    "X = torch.tensor(df[['total_flights', 'num_cancellations', 'time_since_booking', 'season_cancelled']].values, dtype=torch.float32)\n",
    "y = torch.tensor(df['cancel_label'].values, dtype=torch.float32).view(-1, 1)\n",
    "\n",
    "\n",
    "from sklearn.model_selection import train_test_split\n",
    "X_train, X_test, y_train, y_test = train_test_split(X, y, test_size=0.2, random_state=42)"
   ]
  },
  {
   "cell_type": "code",
   "execution_count": 19,
   "metadata": {
    "executionInfo": {
     "elapsed": 2,
     "status": "ok",
     "timestamp": 1742626571021,
     "user": {
      "displayName": "Кирилл Черепанов",
      "userId": "02626627573596547250"
     },
     "user_tz": -420
    },
    "id": "E95PlEqWfNnZ"
   },
   "outputs": [],
   "source": [
    "import torch.nn as nn\n",
    "import torch.optim as optim\n",
    "\n",
    "\n",
    "class CancellationPredictor(nn.Module):\n",
    "    def __init__(self, input_size):\n",
    "        super(CancellationPredictor, self).__init__()\n",
    "        self.fc1 = nn.Linear(input_size, 64)\n",
    "        self.fc2 = nn.Linear(64, 32)\n",
    "        self.fc3 = nn.Linear(32, 1)\n",
    "        self.sigmoid = nn.Sigmoid()\n",
    "\n",
    "    def forward(self, x):\n",
    "        x = torch.relu(self.fc1(x))\n",
    "        x = torch.relu(self.fc2(x))\n",
    "        x = self.sigmoid(self.fc3(x))\n",
    "        return x\n",
    "\n",
    "\n",
    "input_size = X_train.shape[1]\n",
    "model = CancellationPredictor(input_size)\n",
    "\n",
    "\n",
    "optimizer = optim.Adam(model.parameters(), lr=0.001)\n",
    "\n",
    "\n",
    "criterion = nn.BCELoss()"
   ]
  },
  {
   "cell_type": "code",
   "execution_count": 20,
   "metadata": {
    "executionInfo": {
     "elapsed": 8,
     "status": "ok",
     "timestamp": 1742626572628,
     "user": {
      "displayName": "Кирилл Черепанов",
      "userId": "02626627573596547250"
     },
     "user_tz": -420
    },
    "id": "1irX5uK7f1Tj"
   },
   "outputs": [],
   "source": [
    "def accuracy(y_true, y_pred):\n",
    "\n",
    "    y_pred_labels = (y_pred > 0.5).float()\n",
    "    correct = (y_pred_labels == y_true).float()\n",
    "    return correct.mean().item()"
   ]
  },
  {
   "cell_type": "code",
   "execution_count": 22,
   "metadata": {
    "colab": {
     "base_uri": "https://localhost:8080/"
    },
    "executionInfo": {
     "elapsed": 410,
     "status": "ok",
     "timestamp": 1742626581615,
     "user": {
      "displayName": "Кирилл Черепанов",
      "userId": "02626627573596547250"
     },
     "user_tz": -420
    },
    "id": "n9aitAt5fWqe",
    "outputId": "2e206ff9-7be7-436a-9f6c-4a174256fc2e"
   },
   "outputs": [
    {
     "name": "stdout",
     "output_type": "stream",
     "text": [
      "Fold 1\n",
      "Validation Loss: 0.5518124103546143, Validation Accuracy: 0.96875\n",
      "Fold 2\n",
      "Validation Loss: 0.978567898273468, Validation Accuracy: 0.934374988079071\n",
      "Fold 3\n",
      "Validation Loss: 0.3885619044303894, Validation Accuracy: 0.9593750238418579\n",
      "Fold 4\n",
      "Validation Loss: 0.30564451217651367, Validation Accuracy: 0.9281250238418579\n",
      "Fold 5\n",
      "Validation Loss: 0.1698302924633026, Validation Accuracy: 0.96875\n",
      "Average Validation Loss: 0.4788834035396576\n",
      "Average Validation Accuracy: 0.9518750071525574\n"
     ]
    }
   ],
   "source": [
    "from sklearn.model_selection import KFold\n",
    "import numpy as np\n",
    "\n",
    "kfold = KFold(n_splits=5, shuffle=True, random_state=42)\n",
    "results = {'val_loss': [], 'val_accuracy': []}\n",
    "\n",
    "for fold, (train_ids, val_ids) in enumerate(kfold.split(X_train)):\n",
    "    print(f'Fold {fold+1}')\n",
    "    X_train_fold, X_val_fold = X_train[train_ids], X_train[val_ids]\n",
    "    y_train_fold, y_val_fold = y_train[train_ids], y_train[val_ids]\n",
    "\n",
    "    for epoch in range(15):\n",
    "        model.train()\n",
    "        optimizer.zero_grad()\n",
    "        outputs = model(X_train_fold)\n",
    "        loss = criterion(outputs, y_train_fold)\n",
    "        loss.backward()\n",
    "        optimizer.step()\n",
    "\n",
    "    model.eval()\n",
    "    with torch.no_grad():\n",
    "        val_outputs = model(X_val_fold)\n",
    "        val_loss = criterion(val_outputs, y_val_fold)\n",
    "        val_acc = accuracy(y_val_fold, val_outputs)\n",
    "\n",
    "        results['val_loss'].append(val_loss.item())\n",
    "        results['val_accuracy'].append(val_acc)\n",
    "\n",
    "        print(f'Validation Loss: {val_loss.item()}, Validation Accuracy: {val_acc}')\n",
    "\n",
    "print(f'Average Validation Loss: {np.mean(results[\"val_loss\"])}')\n",
    "print(f'Average Validation Accuracy: {np.mean(results[\"val_accuracy\"])}')"
   ]
  },
  {
   "cell_type": "code",
   "execution_count": 23,
   "metadata": {
    "colab": {
     "base_uri": "https://localhost:8080/"
    },
    "executionInfo": {
     "elapsed": 10,
     "status": "ok",
     "timestamp": 1742626583340,
     "user": {
      "displayName": "Кирилл Черепанов",
      "userId": "02626627573596547250"
     },
     "user_tz": -420
    },
    "id": "0w8F1YVOfbi8",
    "outputId": "14524566-70a1-496b-d601-b1352566964b"
   },
   "outputs": [
    {
     "name": "stdout",
     "output_type": "stream",
     "text": [
      "Test Loss: 0.20746511220932007, Test Accuracy: 0.9549999833106995\n"
     ]
    }
   ],
   "source": [
    "model.eval()\n",
    "with torch.no_grad():\n",
    "    test_outputs = model(X_test)\n",
    "    test_loss = criterion(test_outputs, y_test)\n",
    "    test_acc = accuracy(y_test, test_outputs)\n",
    "    print(f'Test Loss: {test_loss.item()}, Test Accuracy: {test_acc}')"
   ]
  },
  {
   "cell_type": "code",
   "execution_count": 24,
   "metadata": {
    "colab": {
     "base_uri": "https://localhost:8080/"
    },
    "executionInfo": {
     "elapsed": 4,
     "status": "ok",
     "timestamp": 1742626587869,
     "user": {
      "displayName": "Кирилл Черепанов",
      "userId": "02626627573596547250"
     },
     "user_tz": -420
    },
    "id": "d8eTPcNOffq-",
    "outputId": "aae46e64-cb14-4cc4-fda4-a16eb632af8d"
   },
   "outputs": [
    {
     "name": "stdout",
     "output_type": "stream",
     "text": [
      "Вероятность отмены бронирования: 0.0380\n"
     ]
    }
   ],
   "source": [
    "\n",
    "person_data = {\n",
    "    'total_flights': 150,\n",
    "    'num_cancellations': 10,\n",
    "    'time_since_booking': 133,\n",
    "    'season_cancelled': 3\n",
    "}\n",
    "\n",
    "\n",
    "person_tensor = torch.tensor([person_data['total_flights'],\n",
    "                              person_data['num_cancellations'],\n",
    "                              person_data['time_since_booking'],\n",
    "                              person_data['season_cancelled']], dtype=torch.float32).unsqueeze(0)\n",
    "\n",
    "model.eval()\n",
    "\n",
    "\n",
    "with torch.no_grad():\n",
    "    prediction = model(person_tensor)\n",
    "    probability = prediction.item()\n",
    "\n",
    "print(f'Вероятность отмены бронирования: {probability:.4f}')"
   ]
  },
  {
   "cell_type": "code",
   "execution_count": 27,
   "metadata": {
    "colab": {
     "base_uri": "https://localhost:8080/"
    },
    "executionInfo": {
     "elapsed": 51,
     "status": "ok",
     "timestamp": 1742626657636,
     "user": {
      "displayName": "Кирилл Черепанов",
      "userId": "02626627573596547250"
     },
     "user_tz": -420
    },
    "id": "jfxlLIWsfnIX",
    "outputId": "57b9b3ed-8ec9-4006-d642-d5247227287c"
   },
   "outputs": [
    {
     "name": "stdout",
     "output_type": "stream",
     "text": [
      "[0.07208050042390823, 0.01012350432574749, 0.0718475952744484]\n"
     ]
    }
   ],
   "source": [
    "fly = [[112,9,133,3], [68,5,365,3], [56,3,209,1]]\n",
    "\n",
    "data = np.copy(fly)\n",
    "pr = []\n",
    "\n",
    "for person in data:\n",
    "\n",
    "    person_data = {\n",
    "        'total_flights': person[0],\n",
    "        'num_cancellations': person[1],\n",
    "        'time_since_booking': person[2],\n",
    "        'season_cancelled': person[3]\n",
    "    }\n",
    "\n",
    "\n",
    "    person_tensor = torch.tensor([person_data['total_flights'],\n",
    "                                  person_data['num_cancellations'],\n",
    "                                  person_data['time_since_booking'],\n",
    "                                  person_data['season_cancelled']], dtype=torch.float32).unsqueeze(0)\n",
    "\n",
    "    model.eval()\n",
    "\n",
    "\n",
    "    with torch.no_grad():\n",
    "        prediction = model(person_tensor)\n",
    "        probability = prediction.item()\n",
    "\n",
    "    pr.append(probability)\n",
    "\n",
    "print(pr)"
   ]
  },
  {
   "cell_type": "code",
   "execution_count": 28,
   "metadata": {
    "colab": {
     "base_uri": "https://localhost:8080/"
    },
    "executionInfo": {
     "elapsed": 4,
     "status": "ok",
     "timestamp": 1742626658876,
     "user": {
      "displayName": "Кирилл Черепанов",
      "userId": "02626627573596547250"
     },
     "user_tz": -420
    },
    "id": "IEc5TEKFuXIL",
    "outputId": "b882c9fb-e851-4bd2-f66f-f9063321db5e"
   },
   "outputs": [
    {
     "name": "stdout",
     "output_type": "stream",
     "text": [
      "Вероятность того, что хотя бы один пассажир откажется: 0.1475\n"
     ]
    }
   ],
   "source": [
    "\n",
    "predicted_probabilities = np.array(pr)\n",
    "\n",
    "prob_no_one_cancels = np.prod(1 - predicted_probabilities)\n",
    "\n",
    "prob_at_least_one_cancels = 1 - prob_no_one_cancels\n",
    "\n",
    "print(f'Вероятность того, что хотя бы один пассажир откажется: {prob_at_least_one_cancels:.4f}')"
   ]
  },
  {
   "cell_type": "code",
   "execution_count": 17,
   "metadata": {
    "executionInfo": {
     "elapsed": 46,
     "status": "ok",
     "timestamp": 1742626564843,
     "user": {
      "displayName": "Кирилл Черепанов",
      "userId": "02626627573596547250"
     },
     "user_tz": -420
    },
    "id": "DvMPtqllvKii"
   },
   "outputs": [],
   "source": []
  }
 ],
 "metadata": {
  "colab": {
   "authorship_tag": "ABX9TyMICw0i4mDiui1xZVOw3eiX",
   "provenance": []
  },
  "kernelspec": {
   "display_name": "Python 3",
   "name": "python3"
  },
  "language_info": {
   "name": "python",
   "version": "3.11.9"
  }
 },
 "nbformat": 4,
 "nbformat_minor": 0
}
